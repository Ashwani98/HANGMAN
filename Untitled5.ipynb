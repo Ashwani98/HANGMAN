{
 "cells": [
  {
   "cell_type": "code",
   "execution_count": 2,
   "metadata": {},
   "outputs": [
    {
     "name": "stdout",
     "output_type": "stream",
     "text": [
      "HANGMAN: you have 5 chances to guess the word\n",
      "\n",
      "\n",
      "['_', '_', '_', '_', '_', '_']\n",
      "guess the letter:c\n",
      "['_', '_', '_', '_', '_', '_']\n",
      "\n",
      "\n",
      "guess the letter:h\n",
      "['_', '_', '_', '_', '_', '_']\n",
      "\n",
      "\n",
      "guess the letter:a\n",
      "['_', '_', '_', '_', '_', '_']\n",
      "\n",
      "\n",
      "guess the letter:n\n",
      "['n', '_', '_', '_', '_', 'n']\n",
      "\n",
      "\n",
      "guess the letter:c\n",
      "['n', '_', '_', '_', '_', 'n']\n",
      "\n",
      "\n",
      "guess the letter:o\n",
      "['n', '_', '_', '_', 'o', 'n']\n",
      "\n",
      "\n",
      "guess the letter:o\n",
      "['n', '_', '_', '_', 'o', 'n']\n",
      "\n",
      "\n",
      "guess the letter:w\n",
      "['n', '_', 'w', '_', 'o', 'n']\n",
      "\n",
      "\n",
      "guess the letter:m\n",
      "['n', '_', 'w', '_', 'o', 'n']\n",
      "\n",
      "\n",
      "you are hanged\n"
     ]
    }
   ],
   "source": [
    "import random\n",
    "\n",
    "words = [\"fleming\",\"raman\",\"einstein\",\"newton\",\"rutherford\"]\n",
    "\n",
    "chances = 5\n",
    "givenword = words[random.randint(0,len(words)-1)]\n",
    "wordguessed = ['_']*len(givenword)\n",
    "\n",
    "print(\"HANGMAN: you have 5 chances to guess the word\\n\\n\")\n",
    "print(wordguessed)\n",
    "while chances>0:\n",
    "    \n",
    "    letter = input(\"guess the letter:\")\n",
    "    if letter not in givenword:\n",
    "        chances -= 1\n",
    "    else:\n",
    "        for index in range(len(givenword)):\n",
    "            if givenword[index] is letter:\n",
    "                wordguessed[index] = letter\n",
    "    \n",
    "    print(wordguessed)\n",
    "    print(\"\\n\")\n",
    "    \n",
    "    if '_' not in wordguessed:\n",
    "        print(\"you won\")\n",
    "        break\n",
    "        \n",
    "    elif chances == 0:\n",
    "        print(\"you are hanged\")"
   ]
  },
  {
   "cell_type": "code",
   "execution_count": 18,
   "metadata": {},
   "outputs": [],
   "source": [
    "f = "
   ]
  },
  {
   "cell_type": "code",
   "execution_count": 23,
   "metadata": {},
   "outputs": [],
   "source": []
  },
  {
   "cell_type": "code",
   "execution_count": 35,
   "metadata": {},
   "outputs": [],
   "source": []
  },
  {
   "cell_type": "code",
   "execution_count": 45,
   "metadata": {},
   "outputs": [
    {
     "data": {
      "text/plain": [
       "5"
      ]
     },
     "execution_count": 45,
     "metadata": {},
     "output_type": "execute_result"
    }
   ],
   "source": []
  },
  {
   "cell_type": "code",
   "execution_count": null,
   "metadata": {},
   "outputs": [],
   "source": []
  }
 ],
 "metadata": {
  "kernelspec": {
   "display_name": "Python 3",
   "language": "python",
   "name": "python3"
  },
  "language_info": {
   "codemirror_mode": {
    "name": "ipython",
    "version": 3
   },
   "file_extension": ".py",
   "mimetype": "text/x-python",
   "name": "python",
   "nbconvert_exporter": "python",
   "pygments_lexer": "ipython3",
   "version": "3.6.5"
  }
 },
 "nbformat": 4,
 "nbformat_minor": 2
}
